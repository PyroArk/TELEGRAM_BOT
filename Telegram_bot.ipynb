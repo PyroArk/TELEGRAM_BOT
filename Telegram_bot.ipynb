{
  "nbformat": 4,
  "nbformat_minor": 0,
  "metadata": {
    "colab": {
      "name": "Telegram_bot.ipynb",
      "provenance": []
    },
    "kernelspec": {
      "name": "python3",
      "display_name": "Python 3"
    }
  },
  "cells": [
    {
      "cell_type": "code",
      "metadata": {
        "id": "vS28dfEzOlGe",
        "colab_type": "code",
        "colab": {
          "base_uri": "https://localhost:8080/",
          "height": 34
        },
        "outputId": "2dfc3df0-b105-4ad3-e8c9-3de5735403cb"
      },
      "source": [
        "print(\"HELLO WORLD\")"
      ],
      "execution_count": 1,
      "outputs": [
        {
          "output_type": "stream",
          "text": [
            "HELLO WORLD\n"
          ],
          "name": "stdout"
        }
      ]
    },
    {
      "cell_type": "code",
      "metadata": {
        "id": "z-DrZ2V-Pg8m",
        "colab_type": "code",
        "colab": {
          "base_uri": "https://localhost:8080/",
          "height": 653
        },
        "outputId": "4d6075f1-577b-46f8-c1cc-43e33cd55911"
      },
      "source": [
        "!pip install adafruit-io\n",
        "!pip install python-telegram-bot"
      ],
      "execution_count": 2,
      "outputs": [
        {
          "output_type": "stream",
          "text": [
            "Collecting adafruit-io\n",
            "\u001b[?25l  Downloading https://files.pythonhosted.org/packages/ea/0b/5f2b24a13d283f3b523f6878b571a41618072c9af72a0f66f49745c4485b/adafruit-io-2.4.0.tar.gz (50kB)\n",
            "\u001b[K     |████████████████████████████████| 51kB 1.6MB/s \n",
            "\u001b[?25hRequirement already satisfied: requests in /usr/local/lib/python3.6/dist-packages (from adafruit-io) (2.23.0)\n",
            "Collecting paho-mqtt\n",
            "\u001b[?25l  Downloading https://files.pythonhosted.org/packages/59/11/1dd5c70f0f27a88a3a05772cd95f6087ac479fac66d9c7752ee5e16ddbbc/paho-mqtt-1.5.0.tar.gz (99kB)\n",
            "\u001b[K     |████████████████████████████████| 102kB 4.4MB/s \n",
            "\u001b[?25hRequirement already satisfied: chardet<4,>=3.0.2 in /usr/local/lib/python3.6/dist-packages (from requests->adafruit-io) (3.0.4)\n",
            "Requirement already satisfied: certifi>=2017.4.17 in /usr/local/lib/python3.6/dist-packages (from requests->adafruit-io) (2020.6.20)\n",
            "Requirement already satisfied: idna<3,>=2.5 in /usr/local/lib/python3.6/dist-packages (from requests->adafruit-io) (2.10)\n",
            "Requirement already satisfied: urllib3!=1.25.0,!=1.25.1,<1.26,>=1.21.1 in /usr/local/lib/python3.6/dist-packages (from requests->adafruit-io) (1.24.3)\n",
            "Building wheels for collected packages: adafruit-io, paho-mqtt\n",
            "  Building wheel for adafruit-io (setup.py) ... \u001b[?25l\u001b[?25hdone\n",
            "  Created wheel for adafruit-io: filename=adafruit_io-2.4.0-cp36-none-any.whl size=20657 sha256=200cc5aeae112db82ee15e44ff25a35a955a5f51d03a8ea39342037662d90e3b\n",
            "  Stored in directory: /root/.cache/pip/wheels/05/e7/46/cd3dced11f962217204288f5faee41e56fbad8f7201f510619\n",
            "  Building wheel for paho-mqtt (setup.py) ... \u001b[?25l\u001b[?25hdone\n",
            "  Created wheel for paho-mqtt: filename=paho_mqtt-1.5.0-cp36-none-any.whl size=61416 sha256=a4fb7c8c5a43779aac0b2386d34bafcb8c334ea4de29a4c89aee6250fa22f636\n",
            "  Stored in directory: /root/.cache/pip/wheels/02/94/6c/8474137cb7a5a3e001d70a22c8ff919caee69435376bccce79\n",
            "Successfully built adafruit-io paho-mqtt\n",
            "Installing collected packages: paho-mqtt, adafruit-io\n",
            "Successfully installed adafruit-io-2.4.0 paho-mqtt-1.5.0\n",
            "Collecting python-telegram-bot\n",
            "\u001b[?25l  Downloading https://files.pythonhosted.org/packages/a6/2d/c72fc9a28144277f6170f2fcbfd3bd9427943497522b2689846596eb86cf/python_telegram_bot-12.8-py2.py3-none-any.whl (375kB)\n",
            "\u001b[K     |████████████████████████████████| 378kB 2.7MB/s \n",
            "\u001b[?25hCollecting cryptography\n",
            "\u001b[?25l  Downloading https://files.pythonhosted.org/packages/ba/91/84a29d6a27fd6dfc21f475704c4d2053d58ed7a4033c2b0ce1b4ca4d03d9/cryptography-3.0-cp35-abi3-manylinux2010_x86_64.whl (2.7MB)\n",
            "\u001b[K     |████████████████████████████████| 2.7MB 7.8MB/s \n",
            "\u001b[?25hRequirement already satisfied: tornado>=5.1 in /usr/local/lib/python3.6/dist-packages (from python-telegram-bot) (5.1.1)\n",
            "Requirement already satisfied: decorator>=4.4.0 in /usr/local/lib/python3.6/dist-packages (from python-telegram-bot) (4.4.2)\n",
            "Requirement already satisfied: certifi in /usr/local/lib/python3.6/dist-packages (from python-telegram-bot) (2020.6.20)\n",
            "Requirement already satisfied: cffi!=1.11.3,>=1.8 in /usr/local/lib/python3.6/dist-packages (from cryptography->python-telegram-bot) (1.14.1)\n",
            "Requirement already satisfied: six>=1.4.1 in /usr/local/lib/python3.6/dist-packages (from cryptography->python-telegram-bot) (1.15.0)\n",
            "Requirement already satisfied: pycparser in /usr/local/lib/python3.6/dist-packages (from cffi!=1.11.3,>=1.8->cryptography->python-telegram-bot) (2.20)\n",
            "Installing collected packages: cryptography, python-telegram-bot\n",
            "Successfully installed cryptography-3.0 python-telegram-bot-12.8\n"
          ],
          "name": "stdout"
        }
      ]
    },
    {
      "cell_type": "code",
      "metadata": {
        "id": "Oj8tRY7wQJiO",
        "colab_type": "code",
        "colab": {}
      },
      "source": [
        "ADAFRUIT_IO_USERNAME = \"ameenmanna8824\"             #from adafruit.io/dashboard/{your dashboard}/you secret adafruit I/O Key\n",
        "ADAFRUIT_IO_KEY = \"3d4c4a5ea05940efabe546afd681cad9\""
      ],
      "execution_count": 3,
      "outputs": []
    },
    {
      "cell_type": "code",
      "metadata": {
        "id": "LMtXj9UiQ8Vx",
        "colab_type": "code",
        "colab": {}
      },
      "source": [
        "from Adafruit_IO import Client,Data\n",
        "from telegram.ext import Updater,CommandHandler"
      ],
      "execution_count": 4,
      "outputs": []
    },
    {
      "cell_type": "code",
      "metadata": {
        "id": "Edvj2znTSIS0",
        "colab_type": "code",
        "colab": {}
      },
      "source": [
        "amn = Client(ADAFRUIT_IO_USERNAME,ADAFRUIT_IO_KEY)"
      ],
      "execution_count": 5,
      "outputs": []
    },
    {
      "cell_type": "code",
      "metadata": {
        "id": "agSjZbPiSb9X",
        "colab_type": "code",
        "colab": {}
      },
      "source": [
        "def on(bot,update):\n",
        "  chat_id = update.message.chat_id    #ATTRIBUTE\n",
        "  amn.create_data('delhi',Data(value = 1))#delhi is my feed name\n",
        "  bot.send_message(chat_id =chat_id,text =\"Lights On\")"
      ],
      "execution_count": 6,
      "outputs": []
    },
    {
      "cell_type": "code",
      "metadata": {
        "id": "7btlloOBUZiO",
        "colab_type": "code",
        "colab": {}
      },
      "source": [
        "def off(bot,update):\n",
        "  chat_id = update.message.chat_id\n",
        "  amn.create_data('delhi',Data(value = 0))\n",
        "  bot.send_message(chat_id =chat_id,text =\"Lights Off\")"
      ],
      "execution_count": 7,
      "outputs": []
    },
    {
      "cell_type": "code",
      "metadata": {
        "id": "Dg7ku5qOUotP",
        "colab_type": "code",
        "colab": {
          "base_uri": "https://localhost:8080/",
          "height": 72
        },
        "outputId": "627d43ac-271f-48db-8013-220ff6b8ae2b"
      },
      "source": [
        "updater = Updater('1030218120:AAG23r_uED0umAOnffZpwgbh0bj9el3pvII') # BotFather chat in TELEGRAM(HTTP Api)"
      ],
      "execution_count": 8,
      "outputs": [
        {
          "output_type": "stream",
          "text": [
            "/usr/local/lib/python3.6/dist-packages/ipykernel_launcher.py:1: TelegramDeprecationWarning: Old Handler API is deprecated - see https://git.io/fxJuV for details\n",
            "  \"\"\"Entry point for launching an IPython kernel.\n"
          ],
          "name": "stderr"
        }
      ]
    },
    {
      "cell_type": "code",
      "metadata": {
        "id": "bUe7AizUVxyi",
        "colab_type": "code",
        "colab": {}
      },
      "source": [
        "dp =updater.dispatcher\n",
        "dp.add_handler(CommandHandler('on',on))\n",
        "dp.add_handler(CommandHandler('off',off))\n",
        "updater.start_polling()\n",
        "updater.idle()"
      ],
      "execution_count": null,
      "outputs": []
    },
    {
      "cell_type": "code",
      "metadata": {
        "id": "_Ty2nZV8Wf1i",
        "colab_type": "code",
        "colab": {}
      },
      "source": [
        ""
      ],
      "execution_count": null,
      "outputs": []
    }
  ]
}